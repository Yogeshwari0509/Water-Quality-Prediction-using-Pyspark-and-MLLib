{
  "nbformat": 4,
  "nbformat_minor": 0,
  "metadata": {
    "colab": {
      "provenance": [],
      "gpuType": "T4"
    },
    "kernelspec": {
      "name": "python3",
      "display_name": "Python 3"
    },
    "language_info": {
      "name": "python"
    },
    "accelerator": "GPU"
  },
  "cells": [
    {
      "cell_type": "markdown",
      "source": [
        "# **Water Quality Prediction using Pyspark and MLLib**"
      ],
      "metadata": {
        "id": "3PijlwI06EAi"
      }
    },
    {
      "cell_type": "markdown",
      "source": [
        "Installing Pyspark"
      ],
      "metadata": {
        "id": "oKwJZELyZZwy"
      }
    },
    {
      "cell_type": "code",
      "execution_count": null,
      "metadata": {
        "colab": {
          "base_uri": "https://localhost:8080/"
        },
        "id": "8aq6zUjXYLwr",
        "outputId": "817a7585-3387-45bf-c65d-9695ed04431d"
      },
      "outputs": [
        {
          "output_type": "stream",
          "name": "stdout",
          "text": [
            "Collecting pyspark\n",
            "  Downloading pyspark-3.5.0.tar.gz (316.9 MB)\n",
            "\u001b[2K     \u001b[90m━━━━━━━━━━━━━━━━━━━━━━━━━━━━━━━━━━━━━━━━\u001b[0m \u001b[32m316.9/316.9 MB\u001b[0m \u001b[31m2.6 MB/s\u001b[0m eta \u001b[36m0:00:00\u001b[0m\n",
            "\u001b[?25h  Preparing metadata (setup.py) ... \u001b[?25l\u001b[?25hdone\n",
            "Requirement already satisfied: py4j==0.10.9.7 in /usr/local/lib/python3.10/dist-packages (from pyspark) (0.10.9.7)\n",
            "Building wheels for collected packages: pyspark\n",
            "  Building wheel for pyspark (setup.py) ... \u001b[?25l\u001b[?25hdone\n",
            "  Created wheel for pyspark: filename=pyspark-3.5.0-py2.py3-none-any.whl size=317425344 sha256=e4ebbceebf533dcebae4fad81693756af1f18548ecbbb6b898939ad1fa58aee1\n",
            "  Stored in directory: /root/.cache/pip/wheels/41/4e/10/c2cf2467f71c678cfc8a6b9ac9241e5e44a01940da8fbb17fc\n",
            "Successfully built pyspark\n",
            "Installing collected packages: pyspark\n",
            "Successfully installed pyspark-3.5.0\n"
          ]
        }
      ],
      "source": [
        "!pip install pyspark"
      ]
    },
    {
      "cell_type": "markdown",
      "source": [
        "Importing Necessary Libraries"
      ],
      "metadata": {
        "id": "LEN8_wUgZlxN"
      }
    },
    {
      "cell_type": "code",
      "source": [
        "from pyspark import SparkFiles\n",
        "\n",
        "from pyspark.sql import SparkSession\n",
        "from pyspark.ml import Pipeline\n",
        "from pyspark.ml.feature import StringIndexer, VectorAssembler, OneHotEncoder, StandardScaler\n",
        "from pyspark.ml.regression import LinearRegression,RandomForestRegressor\n",
        "from pyspark.ml.tuning import CrossValidator, ParamGridBuilder\n",
        "from pyspark.ml.evaluation import RegressionEvaluator"
      ],
      "metadata": {
        "id": "J0eFhX0oZj9u"
      },
      "execution_count": null,
      "outputs": []
    },
    {
      "cell_type": "markdown",
      "source": [
        "Create a SparkSession"
      ],
      "metadata": {
        "id": "jwAwdbafbLgy"
      }
    },
    {
      "cell_type": "code",
      "source": [
        "spark = SparkSession.builder.appName(\"Water Quality Prediction\").getOrCreate()\n",
        "spark"
      ],
      "metadata": {
        "colab": {
          "base_uri": "https://localhost:8080/",
          "height": 219
        },
        "id": "arCecdqfbNvM",
        "outputId": "71a54b27-6d78-40ac-8af7-3ee6b4fc2ebc"
      },
      "execution_count": null,
      "outputs": [
        {
          "output_type": "execute_result",
          "data": {
            "text/plain": [
              "<pyspark.sql.session.SparkSession at 0x79b81cb0c5b0>"
            ],
            "text/html": [
              "\n",
              "            <div>\n",
              "                <p><b>SparkSession - in-memory</b></p>\n",
              "                \n",
              "        <div>\n",
              "            <p><b>SparkContext</b></p>\n",
              "\n",
              "            <p><a href=\"http://07dac93b4277:4040\">Spark UI</a></p>\n",
              "\n",
              "            <dl>\n",
              "              <dt>Version</dt>\n",
              "                <dd><code>v3.5.0</code></dd>\n",
              "              <dt>Master</dt>\n",
              "                <dd><code>local[*]</code></dd>\n",
              "              <dt>AppName</dt>\n",
              "                <dd><code>Water Quality Prediction</code></dd>\n",
              "            </dl>\n",
              "        </div>\n",
              "        \n",
              "            </div>\n",
              "        "
            ]
          },
          "metadata": {},
          "execution_count": 3
        }
      ]
    },
    {
      "cell_type": "markdown",
      "source": [
        "Load the Dataset"
      ],
      "metadata": {
        "id": "EkdWJ3dNbDCq"
      }
    },
    {
      "cell_type": "code",
      "source": [
        "df = spark.read.csv('/content/Water_Quality_Prediction.csv', header=True, inferSchema=True)\n",
        "df.show()"
      ],
      "metadata": {
        "colab": {
          "base_uri": "https://localhost:8080/"
        },
        "id": "SNeU8G-vbE7p",
        "outputId": "80876186-ef82-45b2-f0e8-62641bed9184"
      },
      "execution_count": null,
      "outputs": [
        {
          "output_type": "stream",
          "name": "stdout",
          "text": [
            "+-----+-----------+-----------+-----------+-----------+---------+-----------+--------------+-----------+-----------+-----------+-----------+-----------+------------+-----------+-----------+----------------------+---------+-----------------+---------------+---------+---+-----------+------+\n",
            "|Index|         pH|       Iron|    Nitrate|   Chloride|     Lead|       Zinc|         Color|  Turbidity|   Fluoride|     Copper|       Odor|    Sulfate|Conductivity|   Chlorine|  Manganese|Total Dissolved Solids|   Source|Water Temperature|Air Temperature|    Month|Day|Time of Day|Target|\n",
            "+-----+-----------+-----------+-----------+-----------+---------+-----------+--------------+-----------+-----------+-----------+-----------+-----------+------------+-----------+-----------+----------------------+---------+-----------------+---------------+---------+---+-----------+------+\n",
            "|    0|8.332988427|    8.35E-5|8.605777156|122.7997723| 3.71E-52|3.434827042|     Colorless|0.022683282|0.607283431|  0.1445987|1.626212487|87.26653841|  471.683357|3.708177873|   2.27E-15|           332.1187886|     NULL|             NULL|    43.49332428|  January| 29|          4|     0|\n",
            "|    1|6.917862877|    8.05E-5|3.734166635|227.0298509| 7.85E-94|1.245317068|  Faint Yellow|0.019007277|0.622873794|0.437835305|1.686049006|144.0109807| 432.8449082| 3.29203779|    8.02E-7|           284.6419843|     Lake|      15.34898067|    71.22058602| November| 26|         16|     0|\n",
            "|    2|5.443761984|0.020105859|3.816993832|230.9956297| 5.29E-76|0.528279714|  Light Yellow| 0.31995564|0.423423412|0.431587631|3.414619167|275.7021072| 990.2012087|3.560224335|0.070079894|           570.0540943|    River|      11.64346697|    44.89132961|  January| 31|          8|     0|\n",
            "|    3|7.955338707|0.143987845|8.224943924|178.1299397| 4.0E-176|4.027879477|Near Colorless|0.166319206|0.208453521|0.239450885|       NULL|147.1632331| 237.0284675|3.516907189|0.024682948|           100.0438379|   Ground|      10.09239196|    60.84323293|    April|  1|         21|     0|\n",
            "|    4| 8.09190898|0.002167128|9.925788275|186.5408724|4.17E-132|3.807511284|  Light Yellow|0.004867024|0.222911919|0.616574354|0.795310107|175.2751746| 385.0258554|3.177849467|0.003296139|           168.0755446|   Spring|      15.24941574|    69.33667064|     June| 29|          7|     0|\n",
            "|    5|       NULL|    6.44E-6|1.702583926|162.8284575|  6.1E-23|3.742463675|Near Colorless|0.504790698|0.054562464|0.851326326|1.270482834|40.85340276| 273.3596619|3.957842188| 2.86395E-4|           365.6390447|   Stream|      13.96684247|    45.44479786|    March| 18|         16|     0|\n",
            "|    6|8.132455255|0.055262287|4.288009512|94.99397759| 2.92E-52|1.770220597|  Light Yellow|0.021703368|1.111893375|0.247115755|0.426403902|       NULL| 265.5300965|1.706754944|0.030837683|           266.0795653|  Aquifer|      27.92038025|    68.10449761|September| 14|         13|     0|\n",
            "|    7|7.258203146|    6.11E-9|9.261675801|182.2423408| 4.4E-224|0.416477546|     Colorless|0.047803179|1.016196237|0.298093421|3.144198652|114.5514266| 160.0625574|2.325093924|   6.02E-16|           214.5531038|    River|      15.89190486|    61.13914033|    April| 11|          4|     0|\n",
            "|    8|8.238148579|   8.08E-10|3.192381033| 143.222718| 1.84E-57|0.134370542|Near Colorless| 0.66261052|0.316944556|0.973190304|       NULL|118.5412785| 201.7695509|3.798676181|0.035086663|           436.3179372|   Spring|      69.94304793|    92.42038135|  January|  5|         14|     0|\n",
            "|    9|7.100649704|0.003019038|3.620641379|157.0439336|6.46E-148|0.112994025|     Colorless|0.050612785|0.842107168|0.391601633|2.713378559|167.4178371| 583.2953206|2.284970892|    8.84E-7|           113.9090767|    River|      11.89937575|    14.01026764|    April|  7|         12|     0|\n",
            "|   10|7.177935595| 0.11226195|8.978629013|238.1775188| 2.29E-34|2.536797511|  Light Yellow|0.007845115|0.658048026|0.170881758|1.137561146|77.82480034| 332.5981233|2.353324446|       NULL|           491.3447246|   Spring|      19.20932517|    46.91058779|      May|  3|          9|     0|\n",
            "|   11| 7.80668495|   1.16E-14|8.763706354|89.25316293| 1.36E-46|0.601864922|Near Colorless|0.179034822| 1.90331274|0.161621837|0.965743528| 82.7920973| 308.7341084|2.497478009|   5.67E-10|           437.7852276|   Spring|      29.42780545|    35.79884222|     June| 13|         23|     0|\n",
            "|   12|7.610982744|0.070003348|7.487402476|168.8039949|1.73E-125| 3.24320081|Near Colorless|0.189490379|0.456858153|0.657833867|1.650826914|120.7470133| 347.4386432|2.860287296|0.003748143|           262.6895452|   Ground|      22.93434347|    76.54752631|     July| 19|          8|     0|\n",
            "|   13|7.690541553|    3.11E-5| 4.72258495|175.9357741|7.58E-105|0.052887789|     Colorless|0.926941374|0.952632636|0.460585332|1.072721762|       NULL| 270.7195141|3.785155554|    5.19E-6|           239.3528377|Reservoir|      34.11101754|    84.12431421|September| 28|         22|     0|\n",
            "|   14|8.474667183|    5.55E-5|3.929446461|125.7783524|1.03E-114|0.274419763|Near Colorless|0.034892879|0.377733462| 0.13420333|0.249970203|       NULL| 838.2152182|3.200891429|     3.6E-5|           487.7887681|   Stream|      17.81015859|    69.10433875|   August|  5|          0|     0|\n",
            "|   15|10.71122614|3.377360167|4.068531117|230.9629201| 4.28E-52|2.620459097|  Light Yellow| 0.02014787|2.246267091|0.040579924|4.047238435|155.6670374|  539.965014|3.415349249|0.036829818|            523.907933|   Spring|       23.6131966|    48.01537938|    March| 17|          0|     0|\n",
            "|   16|6.970263109|    5.76E-5| 7.49108455|130.9013042|3.68E-219|0.074593462|Near Colorless|0.790927832|0.052389685| 0.97708404| 0.85561701|205.6581386| 417.9342715|2.104705864|    1.35E-5|           193.6239882|   Stream|      20.45306382|     49.9489486|  October| 20|          4|     0|\n",
            "|   17|8.470968665|0.001307171|3.535066133|142.6517703| 4.29E-55|0.272492146|Near Colorless| 8.31739E-4| 1.01396654|0.170617904|1.652750628| 199.117882| 206.2032945|2.575973671| 1.34885E-4|           408.0619463|   Ground|      42.90937499|    60.69900785| December| 11|          5|     0|\n",
            "|   18| 7.67366399|0.003307348|4.246382291|160.1684028| 7.18E-50|0.820912527|     Colorless|0.336068019|0.445193031|0.389818218|2.628738629|167.0482365| 308.5241902|2.946246097| 0.02716256|           48.58249114|     Lake|      21.95535797|    69.66261556|   August| 26|         11|     0|\n",
            "|   19|8.116287777|0.001502838|8.993002298| 214.480197| 1.15E-30|2.279528287|     Colorless|1.365581194|0.234745503|0.678391063|1.498628114|111.6114476| 412.1836229|2.710583878|    3.16E-8|           244.5238337|   Spring|      19.63949754|    54.40494041|    March| 16|         11|     0|\n",
            "+-----+-----------+-----------+-----------+-----------+---------+-----------+--------------+-----------+-----------+-----------+-----------+-----------+------------+-----------+-----------+----------------------+---------+-----------------+---------------+---------+---+-----------+------+\n",
            "only showing top 20 rows\n",
            "\n"
          ]
        }
      ]
    },
    {
      "cell_type": "code",
      "source": [
        "df.printSchema()"
      ],
      "metadata": {
        "colab": {
          "base_uri": "https://localhost:8080/"
        },
        "id": "5wyxJTaZePRB",
        "outputId": "daca997e-c8ed-4d48-eb18-2fe394f60964"
      },
      "execution_count": null,
      "outputs": [
        {
          "output_type": "stream",
          "name": "stdout",
          "text": [
            "root\n",
            " |-- Index: integer (nullable = true)\n",
            " |-- pH: double (nullable = true)\n",
            " |-- Iron: double (nullable = true)\n",
            " |-- Nitrate: double (nullable = true)\n",
            " |-- Chloride: double (nullable = true)\n",
            " |-- Lead: double (nullable = true)\n",
            " |-- Zinc: double (nullable = true)\n",
            " |-- Color: string (nullable = true)\n",
            " |-- Turbidity: double (nullable = true)\n",
            " |-- Fluoride: double (nullable = true)\n",
            " |-- Copper: double (nullable = true)\n",
            " |-- Odor: double (nullable = true)\n",
            " |-- Sulfate: double (nullable = true)\n",
            " |-- Conductivity: double (nullable = true)\n",
            " |-- Chlorine: double (nullable = true)\n",
            " |-- Manganese: double (nullable = true)\n",
            " |-- Total Dissolved Solids: double (nullable = true)\n",
            " |-- Source: string (nullable = true)\n",
            " |-- Water Temperature: double (nullable = true)\n",
            " |-- Air Temperature: double (nullable = true)\n",
            " |-- Month: string (nullable = true)\n",
            " |-- Day: integer (nullable = true)\n",
            " |-- Time of Day: integer (nullable = true)\n",
            " |-- Target: integer (nullable = true)\n",
            "\n"
          ]
        }
      ]
    },
    {
      "cell_type": "code",
      "source": [
        "df.describe().show()"
      ],
      "metadata": {
        "colab": {
          "base_uri": "https://localhost:8080/"
        },
        "id": "Prur8zfKfpxe",
        "outputId": "2ff1ec92-5b95-4bb8-fbc6-b91175c3db42"
      },
      "execution_count": null,
      "outputs": [
        {
          "output_type": "stream",
          "name": "stdout",
          "text": [
            "+-------+-----------------+------------------+-------------------+-----------------+-----------------+--------------------+------------------+---------+-------------------+------------------+-------------------+------------------+------------------+-----------------+------------------+--------------------+----------------------+-------+------------------+------------------+---------+------------------+------------------+------+\n",
            "|summary|            Index|                pH|               Iron|          Nitrate|         Chloride|                Lead|              Zinc|    Color|          Turbidity|          Fluoride|             Copper|              Odor|           Sulfate|     Conductivity|          Chlorine|           Manganese|Total Dissolved Solids| Source| Water Temperature|   Air Temperature|    Month|               Day|       Time of Day|Target|\n",
            "+-------+-----------------+------------------+-------------------+-----------------+-----------------+--------------------+------------------+---------+-------------------+------------------+-------------------+------------------+------------------+-----------------+------------------+--------------------+----------------------+-------+------------------+------------------+---------+------------------+------------------+------+\n",
            "|  count|            13490|             13227|              13391|            13247|            13114|               13419|             13150|    13472|              13370|             13023|              13056|             13084|             13075|            13114|             13355|               13245|                 13485|  13296|             13105|             13423|    13285|             13272|             13266| 13490|\n",
            "|   mean|           6744.5| 7.463932232421352|0.07030558778274532|5.788980210519358|173.4365974671875|3.894249188197556E-4|1.4577416487746002|     NULL|0.37396274295910603|0.8615833770436166|0.42778037871043256|1.6839132295635864|139.17137770178567|425.1380937747295|3.1740165187288576|0.043418430205385786|    256.77215453728877|   NULL|19.069926505246276| 60.05651353626602|     NULL|15.701702833031947|11.447459671340269|   0.0|\n",
            "| stddev|3894.371900576523|0.6964165379622683| 0.3178853775577102| 2.65547912465147|54.47391509276145|0.014797993980256758|1.3673154462255854|     NULL| 0.6272807173443453|0.6627767680451885| 0.4456322479868778|0.9857527197487548| 59.06692969125757|188.9191607409244|0.6497916453973409|  0.2932331470406054|    148.95773921311718|   NULL|11.101886630306245|17.909890992058354|     NULL| 8.820466031732792|6.9379451753387595|   0.0|\n",
            "|    min|                0|       3.123674949|           4.02E-36|       0.72956777|      38.97769649|                 0.0|           2.77E-5|Colorless|           2.31E-11|        3.19425E-4|            4.44E-8|       0.011084268|        16.1645779|      31.43100069|        1.22416216|            2.82E-36|           0.034174831|Aquifer|       1.558907095|      -3.562259237|    April|                 1|                 0|     0|\n",
            "|    max|            13489|       11.17659786|        9.032576509|        37.853915|      732.3876589|          1.53288833|       17.46869362|   Yellow|        12.83193278|       7.803605467|        10.00880978|       4.139622616|       1279.553774|       1662.49027|       9.491165047|         11.84260926|           579.5792499|   Well|       115.0564319|       126.7570621|September|                31|                23|     0|\n",
            "+-------+-----------------+------------------+-------------------+-----------------+-----------------+--------------------+------------------+---------+-------------------+------------------+-------------------+------------------+------------------+-----------------+------------------+--------------------+----------------------+-------+------------------+------------------+---------+------------------+------------------+------+\n",
            "\n"
          ]
        }
      ]
    },
    {
      "cell_type": "markdown",
      "source": [
        "Displaying Shape of the data"
      ],
      "metadata": {
        "id": "a1YKPXSxf008"
      }
    },
    {
      "cell_type": "code",
      "source": [
        "print(\"Shape:\", (df.count(), len(df.columns)))"
      ],
      "metadata": {
        "id": "rlULyfF9fvF3",
        "colab": {
          "base_uri": "https://localhost:8080/"
        },
        "outputId": "bd4b9737-157e-4670-9033-4f4f8d2ea73b"
      },
      "execution_count": null,
      "outputs": [
        {
          "output_type": "stream",
          "name": "stdout",
          "text": [
            "Shape: (13490, 24)\n"
          ]
        }
      ]
    },
    {
      "cell_type": "markdown",
      "source": [
        "Checking for null values"
      ],
      "metadata": {
        "id": "_lOkOBc4i2W2"
      }
    },
    {
      "cell_type": "code",
      "source": [
        "from pyspark.sql.functions import col,isnan, when, count\n",
        "df.select([count(when(isnan(q) | col(q).isNull(), q)).alias(q) for q in df.columns]\n",
        "   ).show()"
      ],
      "metadata": {
        "colab": {
          "base_uri": "https://localhost:8080/"
        },
        "id": "JraiEMPdifCM",
        "outputId": "d053cd47-5763-46e3-ff24-03547d2325f4"
      },
      "execution_count": null,
      "outputs": [
        {
          "output_type": "stream",
          "name": "stdout",
          "text": [
            "+-----+---+----+-------+--------+----+----+-----+---------+--------+------+----+-------+------------+--------+---------+----------------------+------+-----------------+---------------+-----+---+-----------+------+\n",
            "|Index| pH|Iron|Nitrate|Chloride|Lead|Zinc|Color|Turbidity|Fluoride|Copper|Odor|Sulfate|Conductivity|Chlorine|Manganese|Total Dissolved Solids|Source|Water Temperature|Air Temperature|Month|Day|Time of Day|Target|\n",
            "+-----+---+----+-------+--------+----+----+-----+---------+--------+------+----+-------+------------+--------+---------+----------------------+------+-----------------+---------------+-----+---+-----------+------+\n",
            "|    0|263|  99|    243|     376|  71| 340|   18|      120|     467|   434| 406|    415|         376|     135|      245|                     5|   194|              385|             67|  205|218|        224|     0|\n",
            "+-----+---+----+-------+--------+----+----+-----+---------+--------+------+----+-------+------------+--------+---------+----------------------+------+-----------------+---------------+-----+---+-----------+------+\n",
            "\n"
          ]
        }
      ]
    },
    {
      "cell_type": "code",
      "source": [
        "df = df.dropna()\n",
        "#missing_counts = df.select([count(when(col(q).isNull(), q)).alias(q) for q in df.columns])\n",
        "#missing_counts.show()"
      ],
      "metadata": {
        "id": "W4MIe_Thkxzf"
      },
      "execution_count": null,
      "outputs": []
    },
    {
      "cell_type": "code",
      "source": [
        "missing_counts = df.select([count(when(col(q).isNull(), q)).alias(q) for q in df.columns])\n",
        "missing_counts.show()"
      ],
      "metadata": {
        "colab": {
          "base_uri": "https://localhost:8080/"
        },
        "id": "YuXLI6zVk30u",
        "outputId": "dcf75e31-d48b-4561-cf07-3b18da55da25"
      },
      "execution_count": null,
      "outputs": [
        {
          "output_type": "stream",
          "name": "stdout",
          "text": [
            "+-----+---+----+-------+--------+----+----+-----+---------+--------+------+----+-------+------------+--------+---------+----------------------+------+-----------------+---------------+-----+---+-----------+------+\n",
            "|Index| pH|Iron|Nitrate|Chloride|Lead|Zinc|Color|Turbidity|Fluoride|Copper|Odor|Sulfate|Conductivity|Chlorine|Manganese|Total Dissolved Solids|Source|Water Temperature|Air Temperature|Month|Day|Time of Day|Target|\n",
            "+-----+---+----+-------+--------+----+----+-----+---------+--------+------+----+-------+------------+--------+---------+----------------------+------+-----------------+---------------+-----+---+-----------+------+\n",
            "|    0|  0|   0|      0|       0|   0|   0|    0|        0|       0|     0|   0|      0|           0|       0|        0|                     0|     0|                0|              0|    0|  0|          0|     0|\n",
            "+-----+---+----+-------+--------+----+----+-----+---------+--------+------+----+-------+------------+--------+---------+----------------------+------+-----------------+---------------+-----+---+-----------+------+\n",
            "\n"
          ]
        }
      ]
    },
    {
      "cell_type": "code",
      "source": [
        "print(\"Shape:\", (df.count(), len(df.columns)))"
      ],
      "metadata": {
        "colab": {
          "base_uri": "https://localhost:8080/"
        },
        "id": "OotjPRdKk-6V",
        "outputId": "974e08fe-0c29-4833-8ad3-3ef691ff1143"
      },
      "execution_count": null,
      "outputs": [
        {
          "output_type": "stream",
          "name": "stdout",
          "text": [
            "Shape: (9047, 24)\n"
          ]
        }
      ]
    },
    {
      "cell_type": "code",
      "source": [
        "from pyspark.ml.feature import VectorAssembler\n",
        "from pyspark.ml.feature import Normalizer\n",
        "\n",
        "vectorAssembler = VectorAssembler(inputCols=[\"Chloride\",\"Lead\",\"Zinc\",\"Turbidity\",\"Fluoride\"], outputCol=\"features\")\n",
        "vectorAssembler"
      ],
      "metadata": {
        "colab": {
          "base_uri": "https://localhost:8080/"
        },
        "id": "VSYOgBbjEZ8Y",
        "outputId": "39e26408-3ed3-4282-96ac-532da1043a83"
      },
      "execution_count": null,
      "outputs": [
        {
          "output_type": "execute_result",
          "data": {
            "text/plain": [
              "VectorAssembler_229ca6c25ef5"
            ]
          },
          "metadata": {},
          "execution_count": 52
        }
      ]
    },
    {
      "cell_type": "code",
      "source": [
        "normalizer = Normalizer(inputCol=\"features\",outputCol=\"features_norm\")\n",
        "normalizer"
      ],
      "metadata": {
        "colab": {
          "base_uri": "https://localhost:8080/"
        },
        "id": "Td8qpa7UE4Uh",
        "outputId": "459cc481-e147-4ea2-d4eb-0878729f5d2c"
      },
      "execution_count": null,
      "outputs": [
        {
          "output_type": "execute_result",
          "data": {
            "text/plain": [
              "Normalizer_429b35951961"
            ]
          },
          "metadata": {},
          "execution_count": 53
        }
      ]
    },
    {
      "cell_type": "code",
      "source": [
        "train_data, test_data = df.randomSplit([0.8, 0.2], seed=42)"
      ],
      "metadata": {
        "id": "8L3uAEbZKMGh"
      },
      "execution_count": null,
      "outputs": []
    },
    {
      "cell_type": "code",
      "source": [
        "target_col = 'Target'"
      ],
      "metadata": {
        "id": "VFSKfKwlFKZC"
      },
      "execution_count": null,
      "outputs": []
    },
    {
      "cell_type": "code",
      "source": [
        "lr = LinearRegression(featuresCol=\"features_norm\", labelCol=target_col)"
      ],
      "metadata": {
        "id": "rgyCdPBjFUXx"
      },
      "execution_count": null,
      "outputs": []
    },
    {
      "cell_type": "code",
      "source": [
        "# Define the stages of the pipeline\n",
        "stages = [vectorAssembler, normalizer, lr]\n",
        "\n",
        "# Create a pipeline with the defined stages\n",
        "pipeline = Pipeline(stages=stages)"
      ],
      "metadata": {
        "id": "Ty2r0NAmFa8x"
      },
      "execution_count": null,
      "outputs": []
    },
    {
      "cell_type": "code",
      "source": [
        "from pyspark.sql.functions import col\n",
        "df = df.withColumn(\"color_int\", col(\"Color\").cast(\"int\"))"
      ],
      "metadata": {
        "id": "29pMwJ93GPG2"
      },
      "execution_count": null,
      "outputs": []
    },
    {
      "cell_type": "code",
      "source": [
        "pipeline_model = pipeline.fit(df)"
      ],
      "metadata": {
        "id": "06zgyZsrFqbS"
      },
      "execution_count": null,
      "outputs": []
    },
    {
      "cell_type": "code",
      "source": [
        "predictions_from_pipeline = pipeline_model.transform(df)"
      ],
      "metadata": {
        "id": "2bZFKAZOGmZK"
      },
      "execution_count": null,
      "outputs": []
    },
    {
      "cell_type": "code",
      "source": [
        "predictions_from_pipeline.select(\"Target\", \"prediction\").show()"
      ],
      "metadata": {
        "colab": {
          "base_uri": "https://localhost:8080/"
        },
        "id": "nkEurHpgHWUk",
        "outputId": "85b874bc-e888-4c24-9147-e4bf5b8634eb"
      },
      "execution_count": null,
      "outputs": [
        {
          "output_type": "stream",
          "name": "stdout",
          "text": [
            "+------+----------+\n",
            "|Target|prediction|\n",
            "+------+----------+\n",
            "|     0|       0.0|\n",
            "|     0|       0.0|\n",
            "|     0|       0.0|\n",
            "|     0|       0.0|\n",
            "|     0|       0.0|\n",
            "|     0|       0.0|\n",
            "|     0|       0.0|\n",
            "|     0|       0.0|\n",
            "|     0|       0.0|\n",
            "|     0|       0.0|\n",
            "|     0|       0.0|\n",
            "|     0|       0.0|\n",
            "|     0|       0.0|\n",
            "|     0|       0.0|\n",
            "|     0|       0.0|\n",
            "|     0|       0.0|\n",
            "|     0|       0.0|\n",
            "|     0|       0.0|\n",
            "|     0|       0.0|\n",
            "|     0|       0.0|\n",
            "+------+----------+\n",
            "only showing top 20 rows\n",
            "\n"
          ]
        }
      ]
    },
    {
      "cell_type": "code",
      "source": [
        "# Evaluate the model and perform further analysis as needed\n",
        "\n",
        "from pyspark.ml.evaluation import MulticlassClassificationEvaluator\n",
        "\n",
        "# Evaluate the model using accuracy (or other appropriate metric for multi-class classification)\n",
        "from pyspark.ml.evaluation import MulticlassClassificationEvaluator\n",
        "\n",
        "# Define the evaluator\n",
        "evaluator = MulticlassClassificationEvaluator(labelCol=\"Target\", predictionCol=\"prediction\", metricName=\"accuracy\")\n",
        "\n",
        "# Calculate the accuracy\n",
        "accuracy = evaluator.evaluate(predictions_from_pipeline)\n",
        "print(f\"Accuracy: {accuracy}\")\n"
      ],
      "metadata": {
        "colab": {
          "base_uri": "https://localhost:8080/"
        },
        "id": "V2U-eaFFH3Re",
        "outputId": "312f0722-0602-45b9-ce9d-9e19cf2cf549"
      },
      "execution_count": null,
      "outputs": [
        {
          "output_type": "stream",
          "name": "stdout",
          "text": [
            "Accuracy: 1.0\n"
          ]
        }
      ]
    },
    {
      "cell_type": "code",
      "source": [
        "# Evaluate the model\n",
        "evaluator = RegressionEvaluator(labelCol=\"Target\", predictionCol=\"prediction\", metricName=\"rmse\")\n",
        "rmse = evaluator.evaluate(predictions_from_pipeline)\n",
        "print(f'RMSE without hyperParamater Tuning: {rmse}')"
      ],
      "metadata": {
        "colab": {
          "base_uri": "https://localhost:8080/"
        },
        "id": "TUUkjN0MIo7D",
        "outputId": "4fc5eebb-1e8b-434e-b06a-c65f739f26c9"
      },
      "execution_count": null,
      "outputs": [
        {
          "output_type": "stream",
          "name": "stdout",
          "text": [
            "RMSE without hyperParamater Tuning: 0.0\n"
          ]
        }
      ]
    }
  ]
}